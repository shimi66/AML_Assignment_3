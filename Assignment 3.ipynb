{
 "cells": [
  {
   "cell_type": "code",
   "execution_count": 1,
   "id": "2d76b498",
   "metadata": {},
   "outputs": [],
   "source": [
    "import pandas as pd\n"
   ]
  },
  {
   "cell_type": "code",
   "execution_count": 18,
   "id": "1948c4a6",
   "metadata": {},
   "outputs": [
    {
     "name": "stdout",
     "output_type": "stream",
     "text": [
      "21928568\n",
      "2190814\n"
     ]
    }
   ],
   "source": [
    "f = open(\"amazon/Home_and_Kitchen.json\", \"r\")\n",
    "f2 = open(\"amazon/Home_and_Kitchen_10.json\", \"w\")\n",
    "\n",
    "num_lines_before = 0\n",
    "num_lines_after = 0\n",
    "for line in f:\n",
    "    num_lines_before += 1\n",
    "    if hash(line) % 10 == 0:\n",
    "        f2.write(line)\n",
    "        num_lines_after += 1\n",
    "\n",
    "f.close()\n",
    "f2.close()\n",
    "\n",
    "print(num_lines_before)\n",
    "print(num_lines_after)"
   ]
  },
  {
   "cell_type": "code",
   "execution_count": 19,
   "id": "5885757b",
   "metadata": {},
   "outputs": [
    {
     "name": "stdout",
     "output_type": "stream",
     "text": [
      "{\"category\": [\"Home & Kitchen\", \"Kitchen & Dining\", \"Dining & Entertaining\", \"Dinnerware\", \"Plates\", \"Dinner Plates\"], \"tech1\": \"\", \"description\": [\"It was a time honored tradition among the early American families that when someone deserved special praise or attention they were served dinner on the Red Plate. Observe the special occasions of each\"], \"fit\": \"\", \"title\": \"You Are Special Today Red Plate [With Red Pen]\", \"also_buy\": [\"B0001XR2F2\", \"B01LY51HUN\", \"B07CXZ9C5B\", \"0310258952\"], \"image\": [], \"tech2\": \"\", \"brand\": \"Waechtersbach USA\", \"feature\": [], \"rank\": [\">#39,665 in Kitchen & Dining (See Top 100 in Kitchen & Dining)\", \">#93 in Kitchen & Dining > Tabletop > Dinnerware > Plates > Dinner Plates\", \">#19,436 in Home & Kitchen > Kitchen & Dining > Food Service Equipment & Supplies\"], \"also_view\": [\"B0001XR2F2\", \"B00MOFKX1A\", \"B07G3LN13B\", \"B07CYXMFFH\", \"B01LY51HUN\", \"B06XCK743L\", \"B00PV4FHZI\", \"B07C1WTCL4\", \"B001ARPMD2\", \"B00847B0IC\", \"B000NCW2RE\", \"B06ZZ1GLQR\"], \"main_cat\": \"Amazon Home\", \"similar_item\": \" class=\\\"a-bordered a-horizontal-stripes  a-spacing-extra-large a-size-base comparison_table\\\">\\n\\n\\n\\n            \\n            \\n            \\n            \\n            \\n            <tr class=\\\"comparison_table_image_row\\\">\\n                <td class=\\\"comparison_table_first_col\\\"></td>\\n\\n\\n                <th class=\\\"comparison_image_title_cell\\\" role=\\\"columnheader\\\">\\n                    <div class=\\\"a-row a-spacing-top-micro\\\">\\n                        <center>\\n                             <img alt=\\\"You Are Special Today Red Plate [With Red Pen]\\\" src=\\\"https://images-na.ssl-images-amazon.com/images/I/31BflCWuxEL._SL500_AC_SS350_.jpg\\\" id=\\\"comparison_image\\\">\\n                        </center>\\n                    </div>\\n                    <div class=\\\"a-row a-spacing-top-small\\\">\\n                        <div id=\\\"comparison_title\\\" class=\\\"a-section a-spacing-none\\\">\\n                            <span aria-hidden=\\\"true\\\" class=\\\"a-size-base a-color-base a-text-bold\\\">\\n                                This item\\n                            </span>\\n                            <span aria-hidden=\\\"true\\\" class=\\\"a-size-base a-color-base\\\">You Are Special Today Red Plate [With Red Pen]</span>\\n                        </div>\\n                        \\n                        \\n                    </div>\\n                </th>\\n\\n\\n                \\n                    <th class=\\\"comparison_image_title_cell comparable_item0\\\" role=\\\"columnheader\\\">\\n                        <a class=\\\"a-link-normal\\\" target=\\\"_self\\\" rel=\\\"noopener\\\" href=\\\"/dp/B07CYXMFFH/ref=psdc_367155011_t1_0001487795\\\">\\n                          <div class=\\\"a-row a-spacing-top-micro\\\">\\n                            <center>\\n                                <img alt=\\\"\\\" src=\\\"https://images-na.ssl-images-amazon.com/images/I/51ox8tReV4L._SL500_AC_SS350_.jpg\\\" aria-hidden=\\\"true\\\" id=\\\"comparison_image0\\\">\\n                            </center>\\n                          </div>\\n                          <div id=\\\"comparison_title0\\\" class=\\\"a-row a-spacing-top-small\\\">\\n                            <span class=\\\"a-size-base\\\">Waechtersbach 4251271903 Special Today Plates, Giftboxed, Set of 2, Red</span>\\n                          </div>\\n                        </a>\\n                        \\n                        \\n                    </th>\\n                \\n                    <th class=\\\"comparison_image_title_cell comparable_item1\\\" role=\\\"columnheader\\\">\\n                        <a class=\\\"a-link-normal\\\" target=\\\"_self\\\" rel=\\\"noopener\\\" href=\\\"/dp/B06XCK743L/ref=psdc_367155011_t2_0001487795\\\">\\n                          <div class=\\\"a-row a-spacing-top-micro\\\">\\n                            <center>\\n                                <img alt=\\\"\\\" src=\\\"https://images-na.ssl-images-amazon.com/images/I/51LviJwzE8L._SL500_AC_SS350_.jpg\\\" aria-hidden=\\\"true\\\" id=\\\"comparison_image1\\\">\\n                            </center>\\n                          </div>\\n                          <div id=\\\"comparison_title1\\\" class=\\\"a-row a-spacing-top-small\\\">\\n                            <span class=\\\"a-size-base\\\">Happy Birthday Plate, 10\\\" Ceramic</span>\\n                          </div>\\n                        </a>\\n                        \\n                        \\n                    </th>\\n                \\n                    <th class=\\\"comparison_image_title_cell comparable_item2\\\" role=\\\"columnheader\\\">\\n                        <a class=\\\"a-link-normal\\\" target=\\\"_self\\\" rel=\\\"noopener\\\" href=\\\"/dp/B07C1WTCL4/ref=psdc_367155011_t3_0001487795\\\">\\n                          <div class=\\\"a-row a-spacing-top-micro\\\">\\n                            <center>\\n                                <img alt=\\\"\\\" src=\\\"https://images-na.ssl-images-amazon.com/images/I/51S2PFfvBLL._SL500_AC_SS350_.jpg\\\" aria-hidden=\\\"true\\\" id=\\\"comparison_image2\\\">\\n                            </center>\\n                          </div>\\n                          <div id=\\\"comparison_title2\\\" class=\\\"a-row a-spacing-top-small\\\">\\n                            <span class=\\\"a-size-base\\\">Happy Birthday Presents Best Wishes Dessert Plate Decorative Porcelain 8 inch Dinner Home</span>\\n                          </div>\\n                        </a>\\n                        \\n                        \\n                    </th>\\n                \\n            </tr>\\n\\n\\n            <tr></tr>\\n\\n\\n            \\n            \\n            <tr>\\n                <td class=\\\"comparison_table_first_col\\\"></td>\\n\\n\\n                <td class=\\\"comparison_add_to_cart_button\\\">\\n                    \\n                        \\n                        \\n                        \\n                            <span id=\\\"comparison_add_to_cart_button\\\" class=\\\"a-button a-spacing-small a-button-primary\\\"><span class=\\\"a-button-inner\\\"><a id=\\\"comparison_add_to_cart_button-announce\\\" href=\\\"/gp/item-dispatch/ref=psdc_367155011_a0_0001487795?ie=UTF8&amp;itemCount=1&amp;nodeID=284507&amp;offeringID.1=H8AJ6uV%252B6RdCYF195Mv6FOAHibu55UIrddtt2BAmBv%252BrUgFPz%252F4Uan8t14VNiLuDqCBc%252FFwyPeC9tDgfJjqauJXdFAYfG192GdXGjq7eeBhD0uml%252B%252Blip7eRFUrNQnf%252F9xex6URcEzW%252BwmhBd3UBLLvvSuFsc18D&amp;storeID=kitchen&amp;session-id=141-3079447-8876251&amp;submit.addToCart=addToCart&amp;signInToHUC=0\\\" class=\\\"a-button-text\\\" role=\\\"button\\\">Add to Cart</a></span></span>\\n                        \\n                    \\n                </td>\\n\\n\\n                \\n                    <td class=\\\"a-text-left comparison_add_to_cart_button comparable_item0\\\">\\n                        \\n                            \\n                            \\n                                <span id=\\\"comparison_add_to_cart_button0\\\" class=\\\"a-button a-spacing-small a-button-primary\\\"><span class=\\\"a-button-inner\\\"><a id=\\\"comparison_add_to_cart_button0-announce\\\" href=\\\"/gp/item-dispatch/ref=psdc_367155011_a1_0001487795?ie=UTF8&amp;itemCount=1&amp;nodeID=284507&amp;offeringID.1=zraRVHEQRBQpAR4vBc1nAHqwlK6QzdCyz3P3jit13LQl2n0E%252FDXKmdnzydqfc4o0lOoVJk7j%252B%252FvQKPaZFWzZUu7pXCY6JxodTm%252FVJlVKn7qvCMEjxMFrzcIrsokrPJd5etVIovkeWHras6RQYImF9Y0zvNUUBlrF&amp;storeID=kitchen&amp;session-id=141-3079447-8876251&amp;submit.addToCart=addToCart&amp;signInToHUC=0\\\" class=\\\"a-button-text\\\" role=\\\"button\\\">Add to Cart</a></span></span>\\n                            \\n                        \\n                    </td>\\n                \\n                    <td class=\\\"a-text-left comparison_add_to_cart_button comparable_item1\\\">\\n                        \\n                            \\n                            \\n                                <span id=\\\"comparison_add_to_cart_button1\\\" class=\\\"a-button a-spacing-small a-button-primary\\\"><span class=\\\"a-button-inner\\\"><a id=\\\"comparison_add_to_cart_button1-announce\\\" href=\\\"/gp/item-dispatch/ref=psdc_367155011_a2_0001487795?ie=UTF8&amp;itemCount=1&amp;nodeID=284507&amp;offeringID.1=zraRVHEQRBSMl9w%252FH2%252FUp141kOA%252BuESOTRLZp%252F1ehXTV1jcxuSRHWpzMjKRGyepObIGeKOg9r63jxHjXgAYGhLUwAWV8RiUnU1x%252Fj6rfT1wOAcabfa6A5oE3U%252Ff0v9p8SmGs9clPbxTbLjtk5yKQhM8tFMrgKjec&amp;storeID=kitchen&amp;session-id=141-3079447-8876251&amp;submit.addToCart=addToCart&amp;signInToHUC=0\\\" class=\\\"a-button-text\\\" role=\\\"button\\\">Add to Cart</a></span></span>\\n                            \\n                        \\n                    </td>\\n                \\n                    <td class=\\\"a-text-left comparison_add_to_cart_button comparable_item2\\\">\\n                        \\n                            \\n                            \\n                                <span id=\\\"comparison_add_to_cart_button2\\\" class=\\\"a-button a-spacing-small a-button-primary\\\"><span class=\\\"a-button-inner\\\"><a id=\\\"comparison_add_to_cart_button2-announce\\\" href=\\\"/gp/item-dispatch/ref=psdc_367155011_a3_0001487795?ie=UTF8&amp;itemCount=1&amp;nodeID=284507&amp;offeringID.1=zraRVHEQRBQpAR4vBc1nANrq59oURlsr7aZlwqMQNhXwUyS2OnR58cBo6LRwfc0EPmHEONte7P0RduYU2Xhl7Y0wGqRec%252BUUJY0mrmqzSFV0ekQNbElaXwKu3Ei4CsTiwUu%252F%252FwUZ0TFErbDUbkJQoEQQolU5sdQ%252B&amp;storeID=kitchen&amp;session-id=141-3079447-8876251&amp;submit.addToCart=addToCart&amp;signInToHUC=0\\\" class=\\\"a-button-text\\\" role=\\\"button\\\">Add to Cart</a></span></span>\\n                            \\n                        \\n                    </td>\\n                \\n            </tr>\\n\\n\\n            <tr id=\\\"comparison_custormer_rating_row\\\">\\n                \\n                \\n                \\n                \\n\\n                <th class=\\\"comparison_attribute_name_column comparison_table_first_col\\\" role=\\\"rowheader\\\">\\n                    <span class=\\\"a-size-base a-color-base\\\">Customer Rating</span>\\n                </th>\\n\\n\\n                <td class=\\\"comparison_baseitem_column\\\">\\n                    \\n                    \\n                    \\n                    <span>\\n                        <span class=\\\"a-declarative\\\" data-action=\\\"a-popover\\\" data-a-popover=\\\"{&quot;max-width&quot;:&quot;700&quot;,&quot;closeButton&quot;:&quot;false&quot;,&quot;position&quot;:&quot;triggerBottom&quot;,&quot;url&quot;:&quot; /gp/customer-reviews/widgets/average-customer-review/popover/ref=acr_dpComparsion__popover?contextId=dpComparsion&amp;asin=0001487795 &quot;,&quot;restoreFocusOnHide&quot;:&quot;false&quot;}\\\">\\n                            <i class=\\\"a-icon a-icon-star a-star-5 a-spacing-none\\\"><span class=\\\"a-icon-alt\\\">5 out of 5 stars</span></i>\\n                        </span>\\n                        <a class=\\\"a-link-normal\\\" target=\\\"_self\\\" rel=\\\"noopener\\\" href=\\\"/product-reviews/0001487795/ref=psdc_367155011_r0_0001487795?_encoding=UTF8&amp;showViewpoints=1\\\">(6)</a>\\n                        <span class=\\\"a-letter-space\\\"></span>\\n                    </span>\\n                </td>\\n\\n\\n                \\n                    <td class=\\\"comparison_sim_items_column comparable_item0\\\">\\n                        \\n                        \\n                        \\n                        <span>\\n                            <span class=\\\"a-declarative\\\" data-action=\\\"a-popover\\\" data-a-popover=\\\"{&quot;max-width&quot;:&quot;700&quot;,&quot;closeButton&quot;:&quot;false&quot;,&quot;position&quot;:&quot;triggerBottom&quot;,&quot;url&quot;:&quot; /gp/customer-reviews/widgets/average-customer-review/popover/ref=acr_dpComparsion__popover?contextId=dpComparsion&amp;asin=B07CYXMFFH &quot;,&quot;restoreFocusOnHide&quot;:&quot;false&quot;}\\\">\\n                                <i class=\\\"a-icon a-icon-star a-star-4-5 a-spacing-none\\\"><span class=\\\"a-icon-alt\\\">4 out of 5 stars</span></i>\\n                            </span>\\n                            <a class=\\\"a-link-normal\\\" target=\\\"_self\\\" rel=\\\"noopener\\\" href=\\\"/product-reviews/B07CYXMFFH/ref=psdc_367155011_r1_0001487795?_encoding=UTF8&amp;showViewpoints=1\\\">(422)</a>\\n                            <span class=\\\"a-letter-space\\\"></span>\\n                        </span>\\n                    </td>\\n                \\n                    <td class=\\\"comparison_sim_items_column comparable_item1\\\">\\n                        \\n                        \\n                        \\n                        <span>\\n                            <span class=\\\"a-declarative\\\" data-action=\\\"a-popover\\\" data-a-popover=\\\"{&quot;max-width&quot;:&quot;700&quot;,&quot;closeButton&quot;:&quot;false&quot;,&quot;position&quot;:&quot;triggerBottom&quot;,&quot;url&quot;:&quot; /gp/customer-reviews/widgets/average-customer-review/popover/ref=acr_dpComparsion__popover?contextId=dpComparsion&amp;asin=B06XCK743L &quot;,&quot;restoreFocusOnHide&quot;:&quot;false&quot;}\\\">\\n                                <i class=\\\"a-icon a-icon-star a-star-5 a-spacing-none\\\"><span class=\\\"a-icon-alt\\\">5 out of 5 stars</span></i>\\n                            </span>\\n                            <a class=\\\"a-link-normal\\\" target=\\\"_self\\\" rel=\\\"noopener\\\" href=\\\"/product-reviews/B06XCK743L/ref=psdc_367155011_r2_0001487795?_encoding=UTF8&amp;showViewpoints=1\\\">(9)</a>\\n                            <span class=\\\"a-letter-space\\\"></span>\\n                        </span>\\n                    </td>\\n                \\n                    <td class=\\\"comparison_sim_items_column comparable_item2\\\">\\n                        \\n                        \\n                        \\n                        <span>\\n                            <span class=\\\"a-declarative\\\" data-action=\\\"a-popover\\\" data-a-popover=\\\"{&quot;max-width&quot;:&quot;700&quot;,&quot;closeButton&quot;:&quot;false&quot;,&quot;position&quot;:&quot;triggerBottom&quot;,&quot;url&quot;:&quot; /gp/customer-reviews/widgets/average-customer-review/popover/ref=acr_dpComparsion__popover?contextId=dpComparsion&amp;asin=B07C1WTCL4 &quot;,&quot;restoreFocusOnHide&quot;:&quot;false&quot;}\\\">\\n                                <i class=\\\"a-icon a-icon-star a-star-0 a-spacing-none\\\"><span class=\\\"a-icon-alt\\\">0 out of 5 stars</span></i>\\n                            </span>\\n                            <a class=\\\"a-link-normal\\\" target=\\\"_self\\\" rel=\\\"noopener\\\" href=\\\"/product-reviews/B07C1WTCL4/ref=psdc_367155011_r3_0001487795?_encoding=UTF8&amp;showViewpoints=1\\\">(0)</a>\\n                            <span class=\\\"a-letter-space\\\"></span>\\n                        </span>\\n                    </td>\\n                \\n            </tr>\\n\\n\\n            <tr id=\\\"comparison_price_row\\\">\\n                <th class=\\\"comparison_attribute_name_column comparison_table_first_col\\\" role=\\\"rowheader\\\">\\n                    <span class=\\\"a-size-base a-color-base\\\">Price</span>\\n                </th>\\n\\n\\n                <td class=\\\"comparison_baseitem_column\\\">\\n                    \\n                        \\n                        \\n                        \\n                        \\n                            \\n                                \\n                                    <span class=\\\"a-price\\\" data-a-size=\\\"l\\\" data-a-color=\\\"base\\\"><span class=\\\"a-offscreen\\\">$37.00</span><span aria-hidden=\\\"true\\\"><span class=\\\"a-price-symbol\\\">$</span><span class=\\\"a-price-whole\\\">37<span class=\\\"a-price-decimal\\\">\\u0000</span></span><span class=\\\"a-price-fraction\\\">00</span></span></span>\\n                                \\n                                \\n                            \\n                        \\n                    \\n                </td>\\n\\n\\n                \\n                    <td class=\\\"comparison_sim_items_column comparable_item0\\\">\\n                    \\n                        \\n                        \\n                        \\n                            \\n                                \\n                                    <span class=\\\"a-price\\\" data-a-size=\\\"l\\\" data-a-color=\\\"base\\\"><span class=\\\"a-offscreen\\\">$78.95</span><span aria-hidden=\\\"true\\\"><span class=\\\"a-price-symbol\\\">$</span><span class=\\\"a-price-whole\\\">78<span class=\\\"a-price-decimal\\\">\\u0000</span></span><span class=\\\"a-price-fraction\\\">95</span></span></span>\\n                                \\n                                \\n                            \\n                        \\n                    \\n                    </td>\\n                \\n                    <td class=\\\"comparison_sim_items_column comparable_item1\\\">\\n                    \\n                        \\n                        \\n                        \\n                            \\n                                \\n                                    <span class=\\\"a-price\\\" data-a-size=\\\"l\\\" data-a-color=\\\"base\\\"><span class=\\\"a-offscreen\\\">$30.00</span><span aria-hidden=\\\"true\\\"><span class=\\\"a-price-symbol\\\">$</span><span class=\\\"a-price-whole\\\">30<span class=\\\"a-price-decimal\\\">\\u0000</span></span><span class=\\\"a-price-fraction\\\">00</span></span></span>\\n                                \\n                                \\n                            \\n                        \\n                    \\n                    </td>\\n                \\n                    <td class=\\\"comparison_sim_items_column comparable_item2\\\">\\n                    \\n                        \\n                        \\n                        \\n                            \\n                                \\n                                    <span class=\\\"a-price\\\" data-a-size=\\\"l\\\" data-a-color=\\\"base\\\"><span class=\\\"a-offscreen\\\">$32.39</span><span aria-hidden=\\\"true\\\"><span class=\\\"a-price-symbol\\\">$</span><span class=\\\"a-price-whole\\\">32<span class=\\\"a-price-decimal\\\">\\u0000</span></span><span class=\\\"a-price-fraction\\\">39</span></span></span>\\n                                \\n                                \\n                            \\n                        \\n                    \\n                    </td>\\n                \\n            </tr>\\n\\n\\n    \\n                <tr id=\\\"comparison_shipping_info_row\\\">\\n                    <th class=\\\"comparison_attribute_name_column comparison_table_first_col\\\" role=\\\"rowheader\\\">\\n                        <span class=\\\"a-size-base a-color-base\\\">Shipping</span>\\n                    </th>\\n\\n    \\n                    <td class=\\\"comparison_baseitem_column\\\">\\n                        \\n                            \\n                            \\n                            \\n                            \\n                            \\n                            \\n                                <span class=\\\"a-size-base a-color-price a-text-bold\\\">$5.99</span>\\n                            \\n                            \\n                        \\n                    </td>\\n\\n    \\n                    \\n                        <td class=\\\"comparison_sim_items_column comparable_item0\\\">\\n                            \\n                                \\n                                \\n                                    <span class=\\\"a-size-base a-color-base\\\">Eligible for FREE Shipping</span>\\n                                \\n                                \\n                                \\n                                \\n                                \\n                            \\n                        </td>\\n                    \\n                        <td class=\\\"comparison_sim_items_column comparable_item1\\\">\\n                            \\n                                \\n                                \\n                                    <span class=\\\"a-size-base a-color-base\\\">Eligible for FREE Shipping</span>\\n                                \\n                                \\n                                \\n                                \\n                                \\n                            \\n                        </td>\\n                    \\n                        <td class=\\\"comparison_sim_items_column comparable_item2\\\">\\n                            \\n                                \\n                                \\n                                \\n                                \\n                                \\n                                    <span class=\\\"a-size-base a-color-price a-text-bold\\\">$1.99</span>\\n                                \\n                                \\n                            \\n                        </td>\\n                    \\n                </tr>\\n\\n\\n\\n            <tr id=\\\"comparison_sold_by_row\\\">\\n                <th class=\\\"comparison_attribute_name_column comparison_table_first_col\\\" role=\\\"rowheader\\\">\\n                    <span class=\\\"a-size-base a-color-base\\\">Sold By</span>\\n                </th>\\n\\n  \\n                <td class=\\\"comparison_baseitem_column\\\">\\n                    \\n                        \\n                        \\n                        \\n                            <a class=\\\"a-spacing-top-small a-link-normal\\\" target=\\\"_self\\\" rel=\\\"noopener\\\" href=\\\"/gp/help/seller/at-a-glance.html/ref=psdc_367155011_s0_0001487795?ie=UTF8&amp;seller=AKZ1EMYQWXIM3\\\">NewStart-Christian-BookStore</a>\\n                        \\n                     \\n                </td>\\n\\n\\n                \\n                    <td class=\\\"comparison_sim_items_column comparable_item0\\\">\\n                         \\n                            \\n                         \\n                             <a class=\\\"a-spacing-top-small a-link-normal\\\" target=\\\"_self\\\" rel=\\\"noopener\\\" href=\\\"/gp/help/seller/at-a-glance.html/ref=psdc_367155011_s1_0001487795?ie=UTF8&amp;seller=A3UZTASTQ8N4XL&amp;isAmazonFulfilled=1\\\">Glitzy Gift Shop</a>\\n                         \\n                         \\n                     </td>\\n                \\n                    <td class=\\\"comparison_sim_items_column comparable_item1\\\">\\n                         \\n                            \\n                         \\n                             <a class=\\\"a-spacing-top-small a-link-normal\\\" target=\\\"_self\\\" rel=\\\"noopener\\\" href=\\\"/gp/help/seller/at-a-glance.html/ref=psdc_367155011_s2_0001487795?ie=UTF8&amp;seller=A3P4YM5E0K8USM&amp;isAmazonFulfilled=1\\\">Homegrown Traditions</a>\\n                         \\n                         \\n                     </td>\\n                \\n                    <td class=\\\"comparison_sim_items_column comparable_item2\\\">\\n                         \\n                            \\n                         \\n                             <a class=\\\"a-spacing-top-small a-link-normal\\\" target=\\\"_self\\\" rel=\\\"noopener\\\" href=\\\"/gp/help/seller/at-a-glance.html/ref=psdc_367155011_s3_0001487795?ie=UTF8&amp;seller=A2DESEKBIMN2YH\\\">diythinker</a>\\n                         \\n                         \\n                     </td>\\n                \\n             </tr>\\n\\n\\n            \\n                <tr>\\n                    <th class=\\\"a-span3 comparison_attribute_name_column comparison_table_first_col\\\" role=\\\"rowheader\\\">\\n                        <span class=\\\"a-size-base a-color-base\\\">Material Type</span>\\n                    </th>\\n                    \\n\\n                    <td class=\\\"comparison_baseitem_column\\\">\\n                     \\n                        \\n                            \\n                                 <span class=\\\"a-color-secondary\\\"></span>\\n                            \\n                            \\n                        \\n                    </td>\\n\\n\\n                    \\n                        <td class=\\\"comparison_sim_items_column comparable_item0\\\">\\n                            \\n                            \\n                            \\n                               \\n                                  \\n                                  \\n                                      <span class=\\\"a-size-base a-color-base\\\">Ceramic</span>\\n                                  \\n                               \\n                        </td>\\n                    \\n                        <td class=\\\"comparison_sim_items_column comparable_item1\\\">\\n                            \\n                            \\n                            \\n                               \\n                                  \\n                                  \\n                                      <span class=\\\"a-size-base a-color-base\\\">Ceramic</span>\\n                                  \\n                               \\n                        </td>\\n                    \\n                        <td class=\\\"comparison_sim_items_column comparable_item2\\\">\\n                            \\n                            \\n                            \\n                               \\n                                  \\n                                  \\n                                      <span class=\\\"a-size-base a-color-base\\\">Ceramic</span>\\n                                  \\n                               \\n                        </td>\\n                    \\n                </tr>\\n            \\n       \", \"date\": \"October 8, 2006\", \"price\": \"$37.00\", \"asin\": \"0001487795\"}\n",
      "\n"
     ]
    }
   ],
   "source": [
    "f = open(\"amazon/meta_Home_and_Kitchen.json\", \"r\")\n",
    "\n",
    "print(f.readline())\n",
    "\n",
    "f.close()"
   ]
  },
  {
   "cell_type": "code",
   "execution_count": 29,
   "id": "5a2f98f6",
   "metadata": {},
   "outputs": [
    {
     "name": "stdout",
     "output_type": "stream",
     "text": [
      "2161603\n"
     ]
    }
   ],
   "source": [
    "import json\n",
    "\n",
    "f = open(\"amazon/Home_and_Kitchen_10.json\", \"r\")\n",
    "f2 = open(\"amazon/Home_and_Kitchen_10_new.txt\", \"w\")\n",
    "\n",
    "# line = f.readline()\n",
    "# line = json.loads(line)\n",
    "\n",
    "# print(type(line['reviewText']))\n",
    "num_lines = 0\n",
    "\n",
    "for line in f:\n",
    "    tmp = json.loads(line)\n",
    "    try:\n",
    "        if len(tmp['reviewText']) > 5:\n",
    "            f2.write(tmp['reviewText'] + \"\\n\")\n",
    "            num_lines += 1\n",
    "    except:\n",
    "        continue\n",
    "\n",
    "f.close()\n",
    "f2.close()\n",
    "\n",
    "print(num_lines)\n",
    "\n"
   ]
  },
  {
   "cell_type": "code",
   "execution_count": 30,
   "id": "5d7a88d8",
   "metadata": {},
   "outputs": [
    {
     "name": "stdout",
     "output_type": "stream",
     "text": [
      "['I', 'don', 't', 'use', 'these', 'for', 'their', 'original', 'use', 'and']\n"
     ]
    }
   ],
   "source": [
    "from gensim.utils import tokenize\n",
    "\n",
    "with open(\"amazon/Home_and_Kitchen_10_new.txt\", \"r\") as f:\n",
    "    tokenized_texts = [list(tokenize(text)) for text in f]\n",
    "    \n",
    "print(tokenized_texts[0][:10])"
   ]
  },
  {
   "cell_type": "code",
   "execution_count": null,
   "id": "08508113",
   "metadata": {},
   "outputs": [],
   "source": [
    "from gensim.parsing.porter import PorterStemmer\n",
    "\n",
    "stemmer = PorterStemmer()\n",
    "stemmed_texts = [[stemmer.stem(word) for word in text] for text in tokenized_texts]\n",
    "stemmed_texts[0][:10]"
   ]
  },
  {
   "cell_type": "code",
   "execution_count": null,
   "id": "949b6dff",
   "metadata": {},
   "outputs": [],
   "source": []
  }
 ],
 "metadata": {
  "kernelspec": {
   "display_name": "Python 3 (ipykernel)",
   "language": "python",
   "name": "python3"
  },
  "language_info": {
   "codemirror_mode": {
    "name": "ipython",
    "version": 3
   },
   "file_extension": ".py",
   "mimetype": "text/x-python",
   "name": "python",
   "nbconvert_exporter": "python",
   "pygments_lexer": "ipython3",
   "version": "3.9.13"
  }
 },
 "nbformat": 4,
 "nbformat_minor": 5
}
