{
 "cells": [
  {
   "cell_type": "code",
   "execution_count": 1,
   "id": "2d76b498",
   "metadata": {},
   "outputs": [],
   "source": [
    "import pandas as pd\n"
   ]
  },
  {
   "cell_type": "code",
   "execution_count": 2,
   "id": "1948c4a6",
   "metadata": {},
   "outputs": [
    {
     "name": "stdout",
     "output_type": "stream",
     "text": [
      "21928568\n",
      "2740119\n"
     ]
    }
   ],
   "source": [
    "f = open(\"amazon/Home_and_Kitchen.json\", \"r\")\n",
    "f2 = open(\"amazon/Home_and_Kitchen_8.json\", \"w\")\n",
    "\n",
    "num_lines_before = 0\n",
    "num_lines_after = 0\n",
    "for line in f:\n",
    "    num_lines_before += 1\n",
    "    if hash(line) % 8 == 0:\n",
    "        f2.write(line)\n",
    "        num_lines_after += 1\n",
    "\n",
    "f.close()\n",
    "f2.close()\n",
    "\n",
    "print(num_lines_before)\n",
    "print(num_lines_after)"
   ]
  },
  {
   "cell_type": "code",
   "execution_count": 3,
   "id": "5885757b",
   "metadata": {},
   "outputs": [
    {
     "name": "stdout",
     "output_type": "stream",
     "text": [
      "{\"category\": [\"Home & Kitchen\", \"Kitchen & Dining\", \"Dining & Entertaining\", \"Dinnerware\", \"Plates\", \"Dinner Plates\"], \"tech1\": \"\", \"description\": [\"It was a time honored tradition among the early American families that when someone deserved special praise or attention they were served dinner on the Red Plate. Observe the special occasions of each\"], \"fit\": \"\", \"title\": \"You Are Special Today Red Plate [With Red Pen]\", \"also_buy\": [\"B0001XR2F2\", \"B01LY51HUN\", \"B07CXZ9C5B\", \"0310258952\"], \"image\": [], \"tech2\": \"\", \"brand\": \"Waechtersbach USA\", \"feature\": [], \"rank\": [\">#39,665 in Kitchen & Dining (See Top 100 in Kitchen & Dining)\", \">#93 in Kitchen & Dining > Tabletop > Dinnerware > Plates > Dinner Plates\", \">#19,436 in Home & Kitchen > Kitchen & Dining > Food Service Equipment & Supplies\"], \"also_view\": [\"B0001XR2F2\", \"B00MOFKX1A\", \"B07G3LN13B\", \"B07CYXMFFH\", \"B01LY51HUN\", \"B06XCK743L\", \"B00PV4FHZI\", \"B07C1WTCL4\", \"B001ARPMD2\", \"B00847B0IC\", \"B000NCW2RE\", \"B06ZZ1GLQR\"], \"main_cat\": \"Amazon Home\", \"similar_item\": \" class=\\\"a-bordered a-horizontal-stripes  a-spacing-extra-large a-size-base comparison_table\\\">\\n\\n\\n\\n            \\n            \\n            \\n            \\n            \\n            <tr class=\\\"comparison_table_image_row\\\">\\n                <td class=\\\"comparison_table_first_col\\\"></td>\\n\\n\\n                <th class=\\\"comparison_image_title_cell\\\" role=\\\"columnheader\\\">\\n                    <div class=\\\"a-row a-spacing-top-micro\\\">\\n                        <center>\\n                             <img alt=\\\"You Are Special Today Red Plate [With Red Pen]\\\" src=\\\"https://images-na.ssl-images-amazon.com/images/I/31BflCWuxEL._SL500_AC_SS350_.jpg\\\" id=\\\"comparison_image\\\">\\n                        </center>\\n                    </div>\\n                    <div class=\\\"a-row a-spacing-top-small\\\">\\n                        <div id=\\\"comparison_title\\\" class=\\\"a-section a-spacing-none\\\">\\n                            <span aria-hidden=\\\"true\\\" class=\\\"a-size-base a-color-base a-text-bold\\\">\\n                                This item\\n                            </span>\\n                            <span aria-hidden=\\\"true\\\" class=\\\"a-size-base a-color-base\\\">You Are Special Today Red Plate [With Red Pen]</span>\\n                        </div>\\n                        \\n                        \\n                    </div>\\n                </th>\\n\\n\\n                \\n                    <th class=\\\"comparison_image_title_cell comparable_item0\\\" role=\\\"columnheader\\\">\\n                        <a class=\\\"a-link-normal\\\" target=\\\"_self\\\" rel=\\\"noopener\\\" href=\\\"/dp/B07CYXMFFH/ref=psdc_367155011_t1_0001487795\\\">\\n                          <div class=\\\"a-row a-spacing-top-micro\\\">\\n                            <center>\\n                                <img alt=\\\"\\\" src=\\\"https://images-na.ssl-images-amazon.com/images/I/51ox8tReV4L._SL500_AC_SS350_.jpg\\\" aria-hidden=\\\"true\\\" id=\\\"comparison_image0\\\">\\n                            </center>\\n                          </div>\\n                          <div id=\\\"comparison_title0\\\" class=\\\"a-row a-spacing-top-small\\\">\\n                            <span class=\\\"a-size-base\\\">Waechtersbach 4251271903 Special Today Plates, Giftboxed, Set of 2, Red</span>\\n                          </div>\\n                        </a>\\n                        \\n                        \\n                    </th>\\n                \\n                    <th class=\\\"comparison_image_title_cell comparable_item1\\\" role=\\\"columnheader\\\">\\n                        <a class=\\\"a-link-normal\\\" target=\\\"_self\\\" rel=\\\"noopener\\\" href=\\\"/dp/B06XCK743L/ref=psdc_367155011_t2_0001487795\\\">\\n                          <div class=\\\"a-row a-spacing-top-micro\\\">\\n                            <center>\\n                                <img alt=\\\"\\\" src=\\\"https://images-na.ssl-images-amazon.com/images/I/51LviJwzE8L._SL500_AC_SS350_.jpg\\\" aria-hidden=\\\"true\\\" id=\\\"comparison_image1\\\">\\n                            </center>\\n                          </div>\\n                          <div id=\\\"comparison_title1\\\" class=\\\"a-row a-spacing-top-small\\\">\\n                            <span class=\\\"a-size-base\\\">Happy Birthday Plate, 10\\\" Ceramic</span>\\n                          </div>\\n                        </a>\\n                        \\n                        \\n                    </th>\\n                \\n                    <th class=\\\"comparison_image_title_cell comparable_item2\\\" role=\\\"columnheader\\\">\\n                        <a class=\\\"a-link-normal\\\" target=\\\"_self\\\" rel=\\\"noopener\\\" href=\\\"/dp/B07C1WTCL4/ref=psdc_367155011_t3_0001487795\\\">\\n                          <div class=\\\"a-row a-spacing-top-micro\\\">\\n                            <center>\\n                                <img alt=\\\"\\\" src=\\\"https://images-na.ssl-images-amazon.com/images/I/51S2PFfvBLL._SL500_AC_SS350_.jpg\\\" aria-hidden=\\\"true\\\" id=\\\"comparison_image2\\\">\\n                            </center>\\n                          </div>\\n                          <div id=\\\"comparison_title2\\\" class=\\\"a-row a-spacing-top-small\\\">\\n                            <span class=\\\"a-size-base\\\">Happy Birthday Presents Best Wishes Dessert Plate Decorative Porcelain 8 inch Dinner Home</span>\\n                          </div>\\n                        </a>\\n                        \\n                        \\n                    </th>\\n                \\n            </tr>\\n\\n\\n            <tr></tr>\\n\\n\\n            \\n            \\n            <tr>\\n                <td class=\\\"comparison_table_first_col\\\"></td>\\n\\n\\n                <td class=\\\"comparison_add_to_cart_button\\\">\\n                    \\n                        \\n                        \\n                        \\n                            <span id=\\\"comparison_add_to_cart_button\\\" class=\\\"a-button a-spacing-small a-button-primary\\\"><span class=\\\"a-button-inner\\\"><a id=\\\"comparison_add_to_cart_button-announce\\\" href=\\\"/gp/item-dispatch/ref=psdc_367155011_a0_0001487795?ie=UTF8&amp;itemCount=1&amp;nodeID=284507&amp;offeringID.1=H8AJ6uV%252B6RdCYF195Mv6FOAHibu55UIrddtt2BAmBv%252BrUgFPz%252F4Uan8t14VNiLuDqCBc%252FFwyPeC9tDgfJjqauJXdFAYfG192GdXGjq7eeBhD0uml%252B%252Blip7eRFUrNQnf%252F9xex6URcEzW%252BwmhBd3UBLLvvSuFsc18D&amp;storeID=kitchen&amp;session-id=141-3079447-8876251&amp;submit.addToCart=addToCart&amp;signInToHUC=0\\\" class=\\\"a-button-text\\\" role=\\\"button\\\">Add to Cart</a></span></span>\\n                        \\n                    \\n                </td>\\n\\n\\n                \\n                    <td class=\\\"a-text-left comparison_add_to_cart_button comparable_item0\\\">\\n                        \\n                            \\n                            \\n                                <span id=\\\"comparison_add_to_cart_button0\\\" class=\\\"a-button a-spacing-small a-button-primary\\\"><span class=\\\"a-button-inner\\\"><a id=\\\"comparison_add_to_cart_button0-announce\\\" href=\\\"/gp/item-dispatch/ref=psdc_367155011_a1_0001487795?ie=UTF8&amp;itemCount=1&amp;nodeID=284507&amp;offeringID.1=zraRVHEQRBQpAR4vBc1nAHqwlK6QzdCyz3P3jit13LQl2n0E%252FDXKmdnzydqfc4o0lOoVJk7j%252B%252FvQKPaZFWzZUu7pXCY6JxodTm%252FVJlVKn7qvCMEjxMFrzcIrsokrPJd5etVIovkeWHras6RQYImF9Y0zvNUUBlrF&amp;storeID=kitchen&amp;session-id=141-3079447-8876251&amp;submit.addToCart=addToCart&amp;signInToHUC=0\\\" class=\\\"a-button-text\\\" role=\\\"button\\\">Add to Cart</a></span></span>\\n                            \\n                        \\n                    </td>\\n                \\n                    <td class=\\\"a-text-left comparison_add_to_cart_button comparable_item1\\\">\\n                        \\n                            \\n                            \\n                                <span id=\\\"comparison_add_to_cart_button1\\\" class=\\\"a-button a-spacing-small a-button-primary\\\"><span class=\\\"a-button-inner\\\"><a id=\\\"comparison_add_to_cart_button1-announce\\\" href=\\\"/gp/item-dispatch/ref=psdc_367155011_a2_0001487795?ie=UTF8&amp;itemCount=1&amp;nodeID=284507&amp;offeringID.1=zraRVHEQRBSMl9w%252FH2%252FUp141kOA%252BuESOTRLZp%252F1ehXTV1jcxuSRHWpzMjKRGyepObIGeKOg9r63jxHjXgAYGhLUwAWV8RiUnU1x%252Fj6rfT1wOAcabfa6A5oE3U%252Ff0v9p8SmGs9clPbxTbLjtk5yKQhM8tFMrgKjec&amp;storeID=kitchen&amp;session-id=141-3079447-8876251&amp;submit.addToCart=addToCart&amp;signInToHUC=0\\\" class=\\\"a-button-text\\\" role=\\\"button\\\">Add to Cart</a></span></span>\\n                            \\n                        \\n                    </td>\\n                \\n                    <td class=\\\"a-text-left comparison_add_to_cart_button comparable_item2\\\">\\n                        \\n                            \\n                            \\n                                <span id=\\\"comparison_add_to_cart_button2\\\" class=\\\"a-button a-spacing-small a-button-primary\\\"><span class=\\\"a-button-inner\\\"><a id=\\\"comparison_add_to_cart_button2-announce\\\" href=\\\"/gp/item-dispatch/ref=psdc_367155011_a3_0001487795?ie=UTF8&amp;itemCount=1&amp;nodeID=284507&amp;offeringID.1=zraRVHEQRBQpAR4vBc1nANrq59oURlsr7aZlwqMQNhXwUyS2OnR58cBo6LRwfc0EPmHEONte7P0RduYU2Xhl7Y0wGqRec%252BUUJY0mrmqzSFV0ekQNbElaXwKu3Ei4CsTiwUu%252F%252FwUZ0TFErbDUbkJQoEQQolU5sdQ%252B&amp;storeID=kitchen&amp;session-id=141-3079447-8876251&amp;submit.addToCart=addToCart&amp;signInToHUC=0\\\" class=\\\"a-button-text\\\" role=\\\"button\\\">Add to Cart</a></span></span>\\n                            \\n                        \\n                    </td>\\n                \\n            </tr>\\n\\n\\n            <tr id=\\\"comparison_custormer_rating_row\\\">\\n                \\n                \\n                \\n                \\n\\n                <th class=\\\"comparison_attribute_name_column comparison_table_first_col\\\" role=\\\"rowheader\\\">\\n                    <span class=\\\"a-size-base a-color-base\\\">Customer Rating</span>\\n                </th>\\n\\n\\n                <td class=\\\"comparison_baseitem_column\\\">\\n                    \\n                    \\n                    \\n                    <span>\\n                        <span class=\\\"a-declarative\\\" data-action=\\\"a-popover\\\" data-a-popover=\\\"{&quot;max-width&quot;:&quot;700&quot;,&quot;closeButton&quot;:&quot;false&quot;,&quot;position&quot;:&quot;triggerBottom&quot;,&quot;url&quot;:&quot; /gp/customer-reviews/widgets/average-customer-review/popover/ref=acr_dpComparsion__popover?contextId=dpComparsion&amp;asin=0001487795 &quot;,&quot;restoreFocusOnHide&quot;:&quot;false&quot;}\\\">\\n                            <i class=\\\"a-icon a-icon-star a-star-5 a-spacing-none\\\"><span class=\\\"a-icon-alt\\\">5 out of 5 stars</span></i>\\n                        </span>\\n                        <a class=\\\"a-link-normal\\\" target=\\\"_self\\\" rel=\\\"noopener\\\" href=\\\"/product-reviews/0001487795/ref=psdc_367155011_r0_0001487795?_encoding=UTF8&amp;showViewpoints=1\\\">(6)</a>\\n                        <span class=\\\"a-letter-space\\\"></span>\\n                    </span>\\n                </td>\\n\\n\\n                \\n                    <td class=\\\"comparison_sim_items_column comparable_item0\\\">\\n                        \\n                        \\n                        \\n                        <span>\\n                            <span class=\\\"a-declarative\\\" data-action=\\\"a-popover\\\" data-a-popover=\\\"{&quot;max-width&quot;:&quot;700&quot;,&quot;closeButton&quot;:&quot;false&quot;,&quot;position&quot;:&quot;triggerBottom&quot;,&quot;url&quot;:&quot; /gp/customer-reviews/widgets/average-customer-review/popover/ref=acr_dpComparsion__popover?contextId=dpComparsion&amp;asin=B07CYXMFFH &quot;,&quot;restoreFocusOnHide&quot;:&quot;false&quot;}\\\">\\n                                <i class=\\\"a-icon a-icon-star a-star-4-5 a-spacing-none\\\"><span class=\\\"a-icon-alt\\\">4 out of 5 stars</span></i>\\n                            </span>\\n                            <a class=\\\"a-link-normal\\\" target=\\\"_self\\\" rel=\\\"noopener\\\" href=\\\"/product-reviews/B07CYXMFFH/ref=psdc_367155011_r1_0001487795?_encoding=UTF8&amp;showViewpoints=1\\\">(422)</a>\\n                            <span class=\\\"a-letter-space\\\"></span>\\n                        </span>\\n                    </td>\\n                \\n                    <td class=\\\"comparison_sim_items_column comparable_item1\\\">\\n                        \\n                        \\n                        \\n                        <span>\\n                            <span class=\\\"a-declarative\\\" data-action=\\\"a-popover\\\" data-a-popover=\\\"{&quot;max-width&quot;:&quot;700&quot;,&quot;closeButton&quot;:&quot;false&quot;,&quot;position&quot;:&quot;triggerBottom&quot;,&quot;url&quot;:&quot; /gp/customer-reviews/widgets/average-customer-review/popover/ref=acr_dpComparsion__popover?contextId=dpComparsion&amp;asin=B06XCK743L &quot;,&quot;restoreFocusOnHide&quot;:&quot;false&quot;}\\\">\\n                                <i class=\\\"a-icon a-icon-star a-star-5 a-spacing-none\\\"><span class=\\\"a-icon-alt\\\">5 out of 5 stars</span></i>\\n                            </span>\\n                            <a class=\\\"a-link-normal\\\" target=\\\"_self\\\" rel=\\\"noopener\\\" href=\\\"/product-reviews/B06XCK743L/ref=psdc_367155011_r2_0001487795?_encoding=UTF8&amp;showViewpoints=1\\\">(9)</a>\\n                            <span class=\\\"a-letter-space\\\"></span>\\n                        </span>\\n                    </td>\\n                \\n                    <td class=\\\"comparison_sim_items_column comparable_item2\\\">\\n                        \\n                        \\n                        \\n                        <span>\\n                            <span class=\\\"a-declarative\\\" data-action=\\\"a-popover\\\" data-a-popover=\\\"{&quot;max-width&quot;:&quot;700&quot;,&quot;closeButton&quot;:&quot;false&quot;,&quot;position&quot;:&quot;triggerBottom&quot;,&quot;url&quot;:&quot; /gp/customer-reviews/widgets/average-customer-review/popover/ref=acr_dpComparsion__popover?contextId=dpComparsion&amp;asin=B07C1WTCL4 &quot;,&quot;restoreFocusOnHide&quot;:&quot;false&quot;}\\\">\\n                                <i class=\\\"a-icon a-icon-star a-star-0 a-spacing-none\\\"><span class=\\\"a-icon-alt\\\">0 out of 5 stars</span></i>\\n                            </span>\\n                            <a class=\\\"a-link-normal\\\" target=\\\"_self\\\" rel=\\\"noopener\\\" href=\\\"/product-reviews/B07C1WTCL4/ref=psdc_367155011_r3_0001487795?_encoding=UTF8&amp;showViewpoints=1\\\">(0)</a>\\n                            <span class=\\\"a-letter-space\\\"></span>\\n                        </span>\\n                    </td>\\n                \\n            </tr>\\n\\n\\n            <tr id=\\\"comparison_price_row\\\">\\n                <th class=\\\"comparison_attribute_name_column comparison_table_first_col\\\" role=\\\"rowheader\\\">\\n                    <span class=\\\"a-size-base a-color-base\\\">Price</span>\\n                </th>\\n\\n\\n                <td class=\\\"comparison_baseitem_column\\\">\\n                    \\n                        \\n                        \\n                        \\n                        \\n                            \\n                                \\n                                    <span class=\\\"a-price\\\" data-a-size=\\\"l\\\" data-a-color=\\\"base\\\"><span class=\\\"a-offscreen\\\">$37.00</span><span aria-hidden=\\\"true\\\"><span class=\\\"a-price-symbol\\\">$</span><span class=\\\"a-price-whole\\\">37<span class=\\\"a-price-decimal\\\">\\u0000</span></span><span class=\\\"a-price-fraction\\\">00</span></span></span>\\n                                \\n                                \\n                            \\n                        \\n                    \\n                </td>\\n\\n\\n                \\n                    <td class=\\\"comparison_sim_items_column comparable_item0\\\">\\n                    \\n                        \\n                        \\n                        \\n                            \\n                                \\n                                    <span class=\\\"a-price\\\" data-a-size=\\\"l\\\" data-a-color=\\\"base\\\"><span class=\\\"a-offscreen\\\">$78.95</span><span aria-hidden=\\\"true\\\"><span class=\\\"a-price-symbol\\\">$</span><span class=\\\"a-price-whole\\\">78<span class=\\\"a-price-decimal\\\">\\u0000</span></span><span class=\\\"a-price-fraction\\\">95</span></span></span>\\n                                \\n                                \\n                            \\n                        \\n                    \\n                    </td>\\n                \\n                    <td class=\\\"comparison_sim_items_column comparable_item1\\\">\\n                    \\n                        \\n                        \\n                        \\n                            \\n                                \\n                                    <span class=\\\"a-price\\\" data-a-size=\\\"l\\\" data-a-color=\\\"base\\\"><span class=\\\"a-offscreen\\\">$30.00</span><span aria-hidden=\\\"true\\\"><span class=\\\"a-price-symbol\\\">$</span><span class=\\\"a-price-whole\\\">30<span class=\\\"a-price-decimal\\\">\\u0000</span></span><span class=\\\"a-price-fraction\\\">00</span></span></span>\\n                                \\n                                \\n                            \\n                        \\n                    \\n                    </td>\\n                \\n                    <td class=\\\"comparison_sim_items_column comparable_item2\\\">\\n                    \\n                        \\n                        \\n                        \\n                            \\n                                \\n                                    <span class=\\\"a-price\\\" data-a-size=\\\"l\\\" data-a-color=\\\"base\\\"><span class=\\\"a-offscreen\\\">$32.39</span><span aria-hidden=\\\"true\\\"><span class=\\\"a-price-symbol\\\">$</span><span class=\\\"a-price-whole\\\">32<span class=\\\"a-price-decimal\\\">\\u0000</span></span><span class=\\\"a-price-fraction\\\">39</span></span></span>\\n                                \\n                                \\n                            \\n                        \\n                    \\n                    </td>\\n                \\n            </tr>\\n\\n\\n    \\n                <tr id=\\\"comparison_shipping_info_row\\\">\\n                    <th class=\\\"comparison_attribute_name_column comparison_table_first_col\\\" role=\\\"rowheader\\\">\\n                        <span class=\\\"a-size-base a-color-base\\\">Shipping</span>\\n                    </th>\\n\\n    \\n                    <td class=\\\"comparison_baseitem_column\\\">\\n                        \\n                            \\n                            \\n                            \\n                            \\n                            \\n                            \\n                                <span class=\\\"a-size-base a-color-price a-text-bold\\\">$5.99</span>\\n                            \\n                            \\n                        \\n                    </td>\\n\\n    \\n                    \\n                        <td class=\\\"comparison_sim_items_column comparable_item0\\\">\\n                            \\n                                \\n                                \\n                                    <span class=\\\"a-size-base a-color-base\\\">Eligible for FREE Shipping</span>\\n                                \\n                                \\n                                \\n                                \\n                                \\n                            \\n                        </td>\\n                    \\n                        <td class=\\\"comparison_sim_items_column comparable_item1\\\">\\n                            \\n                                \\n                                \\n                                    <span class=\\\"a-size-base a-color-base\\\">Eligible for FREE Shipping</span>\\n                                \\n                                \\n                                \\n                                \\n                                \\n                            \\n                        </td>\\n                    \\n                        <td class=\\\"comparison_sim_items_column comparable_item2\\\">\\n                            \\n                                \\n                                \\n                                \\n                                \\n                                \\n                                    <span class=\\\"a-size-base a-color-price a-text-bold\\\">$1.99</span>\\n                                \\n                                \\n                            \\n                        </td>\\n                    \\n                </tr>\\n\\n\\n\\n            <tr id=\\\"comparison_sold_by_row\\\">\\n                <th class=\\\"comparison_attribute_name_column comparison_table_first_col\\\" role=\\\"rowheader\\\">\\n                    <span class=\\\"a-size-base a-color-base\\\">Sold By</span>\\n                </th>\\n\\n  \\n                <td class=\\\"comparison_baseitem_column\\\">\\n                    \\n                        \\n                        \\n                        \\n                            <a class=\\\"a-spacing-top-small a-link-normal\\\" target=\\\"_self\\\" rel=\\\"noopener\\\" href=\\\"/gp/help/seller/at-a-glance.html/ref=psdc_367155011_s0_0001487795?ie=UTF8&amp;seller=AKZ1EMYQWXIM3\\\">NewStart-Christian-BookStore</a>\\n                        \\n                     \\n                </td>\\n\\n\\n                \\n                    <td class=\\\"comparison_sim_items_column comparable_item0\\\">\\n                         \\n                            \\n                         \\n                             <a class=\\\"a-spacing-top-small a-link-normal\\\" target=\\\"_self\\\" rel=\\\"noopener\\\" href=\\\"/gp/help/seller/at-a-glance.html/ref=psdc_367155011_s1_0001487795?ie=UTF8&amp;seller=A3UZTASTQ8N4XL&amp;isAmazonFulfilled=1\\\">Glitzy Gift Shop</a>\\n                         \\n                         \\n                     </td>\\n                \\n                    <td class=\\\"comparison_sim_items_column comparable_item1\\\">\\n                         \\n                            \\n                         \\n                             <a class=\\\"a-spacing-top-small a-link-normal\\\" target=\\\"_self\\\" rel=\\\"noopener\\\" href=\\\"/gp/help/seller/at-a-glance.html/ref=psdc_367155011_s2_0001487795?ie=UTF8&amp;seller=A3P4YM5E0K8USM&amp;isAmazonFulfilled=1\\\">Homegrown Traditions</a>\\n                         \\n                         \\n                     </td>\\n                \\n                    <td class=\\\"comparison_sim_items_column comparable_item2\\\">\\n                         \\n                            \\n                         \\n                             <a class=\\\"a-spacing-top-small a-link-normal\\\" target=\\\"_self\\\" rel=\\\"noopener\\\" href=\\\"/gp/help/seller/at-a-glance.html/ref=psdc_367155011_s3_0001487795?ie=UTF8&amp;seller=A2DESEKBIMN2YH\\\">diythinker</a>\\n                         \\n                         \\n                     </td>\\n                \\n             </tr>\\n\\n\\n            \\n                <tr>\\n                    <th class=\\\"a-span3 comparison_attribute_name_column comparison_table_first_col\\\" role=\\\"rowheader\\\">\\n                        <span class=\\\"a-size-base a-color-base\\\">Material Type</span>\\n                    </th>\\n                    \\n\\n                    <td class=\\\"comparison_baseitem_column\\\">\\n                     \\n                        \\n                            \\n                                 <span class=\\\"a-color-secondary\\\"></span>\\n                            \\n                            \\n                        \\n                    </td>\\n\\n\\n                    \\n                        <td class=\\\"comparison_sim_items_column comparable_item0\\\">\\n                            \\n                            \\n                            \\n                               \\n                                  \\n                                  \\n                                      <span class=\\\"a-size-base a-color-base\\\">Ceramic</span>\\n                                  \\n                               \\n                        </td>\\n                    \\n                        <td class=\\\"comparison_sim_items_column comparable_item1\\\">\\n                            \\n                            \\n                            \\n                               \\n                                  \\n                                  \\n                                      <span class=\\\"a-size-base a-color-base\\\">Ceramic</span>\\n                                  \\n                               \\n                        </td>\\n                    \\n                        <td class=\\\"comparison_sim_items_column comparable_item2\\\">\\n                            \\n                            \\n                            \\n                               \\n                                  \\n                                  \\n                                      <span class=\\\"a-size-base a-color-base\\\">Ceramic</span>\\n                                  \\n                               \\n                        </td>\\n                    \\n                </tr>\\n            \\n       \", \"date\": \"October 8, 2006\", \"price\": \"$37.00\", \"asin\": \"0001487795\"}\n",
      "\n"
     ]
    }
   ],
   "source": [
    "f = open(\"amazon/meta_Home_and_Kitchen.json\", \"r\")\n",
    "\n",
    "print(f.readline())\n",
    "\n",
    "f.close()"
   ]
  },
  {
   "cell_type": "code",
   "execution_count": 4,
   "id": "d8296482",
   "metadata": {},
   "outputs": [
    {
     "name": "stdout",
     "output_type": "stream",
     "text": [
      "2703639\n"
     ]
    }
   ],
   "source": [
    "import json\n",
    "\n",
    "f = open(\"amazon/Home_and_Kitchen_8.json\", \"r\")\n",
    "f2 = open(\"amazon/Home_and_Kitchen_8_new.txt\", \"w\")\n",
    "\n",
    "# line = f.readline()\n",
    "# line = json.loads(line)\n",
    "\n",
    "# print(type(line['reviewText']))\n",
    "num_lines = 0\n",
    "\n",
    "for line in f:\n",
    "    tmp = json.loads(line)\n",
    "    try:\n",
    "        if len(tmp['reviewText']) > 5:\n",
    "            f2.write(tmp['reviewText'] + \"\\n\")\n",
    "            num_lines += 1\n",
    "    except:\n",
    "        continue\n",
    "\n",
    "f.close()\n",
    "f2.close()\n",
    "\n",
    "print(num_lines)\n",
    "\n"
   ]
  },
  {
   "cell_type": "code",
   "execution_count": 5,
   "id": "f57dfa13",
   "metadata": {},
   "outputs": [
    {
     "name": "stderr",
     "output_type": "stream",
     "text": [
      "[nltk_data] Downloading package stopwords to\n",
      "[nltk_data]     C:\\Users\\Erik\\AppData\\Roaming\\nltk_data...\n",
      "[nltk_data]   Package stopwords is already up-to-date!\n"
     ]
    },
    {
     "name": "stdout",
     "output_type": "stream",
     "text": [
      "['Great', 'product', 'love', 'it']\n",
      "3588963\n"
     ]
    }
   ],
   "source": [
    "from gensim.utils import tokenize\n",
    "\n",
    "\n",
    "import nltk\n",
    "nltk.download('stopwords')\n",
    "from nltk.corpus import stopwords\n",
    "\n",
    "stops = set(stopwords.words('english'))\n",
    "\n",
    "with open(\"amazon/Home_and_Kitchen_8_new.txt\", \"r\") as f:\n",
    "    tokenized_texts = [list(tokenize(text)) for text in f]\n",
    "    \n",
    "print(tokenized_texts[0][:10])\n",
    "print(len(tokenized_texts))\n"
   ]
  },
  {
   "cell_type": "code",
   "execution_count": 6,
   "id": "cf78aecf",
   "metadata": {},
   "outputs": [
    {
     "name": "stdout",
     "output_type": "stream",
     "text": [
      "['Great', 'product', 'love']\n"
     ]
    }
   ],
   "source": [
    "\n",
    "filtered = [[w for w in text if not w.lower() in stops] for text in tokenized_texts]\n",
    "\n",
    "print(filtered[0][:10])"
   ]
  },
  {
   "cell_type": "code",
   "execution_count": 7,
   "id": "67082de8",
   "metadata": {},
   "outputs": [
    {
     "data": {
      "text/plain": [
       "['great', 'product', 'love']"
      ]
     },
     "execution_count": 7,
     "metadata": {},
     "output_type": "execute_result"
    }
   ],
   "source": [
    "from gensim.parsing.porter import PorterStemmer\n",
    "\n",
    "stemmer = PorterStemmer()\n",
    "stemmed_texts = [[stemmer.stem(word) for word in text] for text in filtered]\n",
    "\n",
    "stemmed_texts[0][:10]"
   ]
  },
  {
   "cell_type": "code",
   "execution_count": 8,
   "id": "2311e872",
   "metadata": {},
   "outputs": [],
   "source": [
    "from gensim.corpora.dictionary import Dictionary\n",
    "\n",
    "\n",
    "dictionary = Dictionary(stemmed_texts)\n",
    "# A corpus is a sparse datastore containing the number of times each word appears in each document.\n",
    "corpus = [dictionary.doc2bow(text) for text in stemmed_texts]\n",
    "\n"
   ]
  },
  {
   "cell_type": "code",
   "execution_count": 9,
   "id": "3ee1639e",
   "metadata": {},
   "outputs": [
    {
     "name": "stdout",
     "output_type": "stream",
     "text": [
      "great   \tindex: 0\tcount: 1\n",
      "love   \tindex: 1\tcount: 1\n",
      "product   \tindex: 2\tcount: 1\n"
     ]
    }
   ],
   "source": [
    "top_words_in_doc_0 = sorted(corpus[0], key=lambda e: e[1], reverse=True)[:10]\n",
    "for word_index, count in top_words_in_doc_0:\n",
    "  print(f'{dictionary[word_index]}   \\tindex: {word_index}\\tcount: {count:,}')"
   ]
  },
  {
   "cell_type": "code",
   "execution_count": 10,
   "id": "fc7514f2",
   "metadata": {},
   "outputs": [
    {
     "name": "stdout",
     "output_type": "stream",
     "text": [
      "3588963\n",
      "138627\n",
      "3588963\n"
     ]
    }
   ],
   "source": [
    "print(len(stemmed_texts))\n",
    "print(len(dictionary))\n",
    "print(len(corpus))\n"
   ]
  },
  {
   "cell_type": "code",
   "execution_count": 11,
   "id": "c68ee6b1",
   "metadata": {},
   "outputs": [],
   "source": [
    "from gensim import models, similarities\n",
    "\n",
    "\n",
    "model = models.LdaMulticore(corpus, id2word=dictionary, num_topics=10, workers=14)"
   ]
  },
  {
   "cell_type": "code",
   "execution_count": 12,
   "id": "5803399e",
   "metadata": {},
   "outputs": [
    {
     "name": "stdout",
     "output_type": "stream",
     "text": [
      "[(0, '0.084*\"great\" + 0.060*\"product\" + 0.038*\"qualiti\" + 0.037*\"work\" + 0.036*\"good\" + 0.033*\"price\" + 0.016*\"well\" + 0.014*\"excel\" + 0.014*\"expect\" + 0.014*\"thank\"'), (1, '0.030*\"coffe\" + 0.023*\"cup\" + 0.020*\"us\" + 0.014*\"water\" + 0.014*\"make\" + 0.013*\"mug\" + 0.013*\"hot\" + 0.011*\"tea\" + 0.011*\"keep\" + 0.011*\"drink\"'), (2, '0.026*\"us\" + 0.018*\"sheet\" + 0.017*\"wash\" + 0.015*\"well\" + 0.014*\"pan\" + 0.013*\"cook\" + 0.012*\"like\" + 0.009*\"set\" + 0.009*\"on\" + 0.008*\"make\"'), (3, '0.019*\"on\" + 0.016*\"mattress\" + 0.012*\"like\" + 0.011*\"time\" + 0.010*\"purchas\" + 0.010*\"us\" + 0.010*\"review\" + 0.010*\"year\" + 0.009*\"bui\" + 0.009*\"bought\"'), (4, '0.023*\"us\" + 0.017*\"easi\" + 0.016*\"cut\" + 0.014*\"chair\" + 0.011*\"knife\" + 0.011*\"great\" + 0.010*\"would\" + 0.009*\"recommend\" + 0.008*\"good\" + 0.008*\"imag\"'), (5, '0.027*\"us\" + 0.017*\"water\" + 0.017*\"clean\" + 0.013*\"vacuum\" + 0.011*\"work\" + 0.010*\"rug\" + 0.010*\"on\" + 0.010*\"get\" + 0.010*\"like\" + 0.009*\"time\"'), (6, '0.043*\"love\" + 0.020*\"perfect\" + 0.020*\"us\" + 0.018*\"size\" + 0.017*\"fit\" + 0.015*\"great\" + 0.014*\"bag\" + 0.014*\"on\" + 0.013*\"small\" + 0.013*\"easi\"'), (7, '0.033*\"look\" + 0.028*\"love\" + 0.024*\"color\" + 0.024*\"nice\" + 0.017*\"beauti\" + 0.016*\"like\" + 0.013*\"gift\" + 0.013*\"pictur\" + 0.010*\"qualiti\" + 0.010*\"great\"'), (8, '0.021*\"on\" + 0.011*\"would\" + 0.011*\"return\" + 0.009*\"back\" + 0.009*\"work\" + 0.009*\"us\" + 0.008*\"get\" + 0.007*\"replac\" + 0.007*\"piec\" + 0.007*\"time\"'), (9, '0.018*\"pillow\" + 0.014*\"bed\" + 0.013*\"room\" + 0.012*\"great\" + 0.012*\"like\" + 0.012*\"comfort\" + 0.011*\"us\" + 0.010*\"light\" + 0.009*\"look\" + 0.008*\"smell\"')]\n"
     ]
    }
   ],
   "source": [
    "print(model.show_topics(num_topics=10, num_words=10))"
   ]
  },
  {
   "cell_type": "code",
   "execution_count": 13,
   "id": "5db93713",
   "metadata": {},
   "outputs": [
    {
     "name": "stdout",
     "output_type": "stream",
     "text": [
      "0:  thank expect excel well price good work qualiti product great\n",
      "1:  drink keep tea hot mug make water us cup coffe\n",
      "2:  make on set like cook pan well wash sheet us\n",
      "3:  bought bui year review us purchas time like mattress on\n",
      "4:  imag good recommend would great knife chair cut easi us\n",
      "5:  time like get on rug work vacuum clean water us\n",
      "6:  easi small on bag great fit size us perfect love\n",
      "7:  great qualiti pictur gift like beauti nice color love look\n",
      "8:  time piec replac get us work back return would on\n",
      "9:  smell look light us comfort like great room bed pillow\n"
     ]
    }
   ],
   "source": [
    "import numpy as np\n",
    "\n",
    "for ix in range(10):\n",
    "  top10 = np.argsort(model.get_topics()[ix])[-10:]\n",
    "  print(f'{ix}:  {\" \".join([dictionary[index] for index in top10])}')"
   ]
  },
  {
   "cell_type": "code",
   "execution_count": 14,
   "id": "f65bf2de",
   "metadata": {},
   "outputs": [],
   "source": [
    "#trying without stemmed words\n",
    "\n",
    "new_corpus = [dictionary.doc2bow(text) for text in filtered]\n",
    "\n",
    "model = models.LdaMulticore(new_corpus, id2word=dictionary, num_topics=10, workers=14)"
   ]
  },
  {
   "cell_type": "code",
   "execution_count": 15,
   "id": "2a055759",
   "metadata": {},
   "outputs": [
    {
     "name": "stdout",
     "output_type": "stream",
     "text": [
      "0:  two box used would came get use mattress first time\n",
      "1:  used good price job clean well easy works use great\n",
      "2:  like use get mug cold lid hot cup coffee water\n",
      "3:  bag really love great together like sturdy put easy nice\n",
      "4:  gift purchase good review received happy would recommend love product\n",
      "5:  use fit would big like perfect make little small size\n",
      "6:  unit vacuum even return could buy get back like would\n",
      "7:  rug daughter great set love beautiful color bed perfect room\n",
      "8:  cute nice gift look like expected good made price well\n",
      "9:  oven sheet blanket stick good use like pan soft pillow\n"
     ]
    }
   ],
   "source": [
    "for ix in range(10):\n",
    "  top10 = np.argsort(model.get_topics()[ix])[-10:]\n",
    "  print(f'{ix}:  {\" \".join([dictionary[index] for index in top10])}')"
   ]
  },
  {
   "cell_type": "code",
   "execution_count": 16,
   "id": "c2cc643b",
   "metadata": {},
   "outputs": [
    {
     "name": "stdout",
     "output_type": "stream",
     "text": [
      "umass:  -3.014806708032802\n",
      "c_v:  0.5428692998435725\n"
     ]
    }
   ],
   "source": [
    "from gensim.models.coherencemodel import CoherenceModel\n",
    "\n",
    "cm = CoherenceModel(model=model, texts=filtered, dictionary=dictionary, coherence='u_mass')\n",
    "coherence = cm.get_coherence()\n",
    "print(\"umass: \", coherence)\n",
    "cm = CoherenceModel(model=model, texts=filtered, dictionary=dictionary, coherence='c_v')\n",
    "coherence = cm.get_coherence()\n",
    "print(\"c_v: \", coherence)\n"
   ]
  },
  {
   "cell_type": "code",
   "execution_count": 17,
   "id": "ccafbd2d",
   "metadata": {},
   "outputs": [],
   "source": [
    "# try with less topics\n",
    "\n",
    "model = models.LdaMulticore(new_corpus, id2word=dictionary, num_topics=5, workers=14)"
   ]
  },
  {
   "cell_type": "code",
   "execution_count": 18,
   "id": "279c377d",
   "metadata": {},
   "outputs": [
    {
     "name": "stdout",
     "output_type": "stream",
     "text": [
      "0:  like pan great received price used loved gift use product\n",
      "1:  color would price well love size good product nice great\n",
      "2:  mattress really together fit bed use like put easy well\n",
      "3:  light hot back really get time expected would water like\n",
      "4:  well would make great get cup time use coffee love\n"
     ]
    }
   ],
   "source": [
    "for ix in range(5):\n",
    "  top10 = np.argsort(model.get_topics()[ix])[-10:]\n",
    "  print(f'{ix}:  {\" \".join([dictionary[index] for index in top10])}')"
   ]
  },
  {
   "cell_type": "code",
   "execution_count": 19,
   "id": "6ad72254",
   "metadata": {},
   "outputs": [
    {
     "name": "stdout",
     "output_type": "stream",
     "text": [
      "umass:  -2.8200038535524636\n",
      "c_v:  0.517487878292162\n"
     ]
    }
   ],
   "source": [
    "cm = CoherenceModel(model=model, texts=filtered, dictionary=dictionary, coherence='u_mass')\n",
    "coherence = cm.get_coherence()\n",
    "print(\"umass: \", coherence)\n",
    "cm = CoherenceModel(model=model, texts=filtered, dictionary=dictionary, coherence='c_v')\n",
    "coherence = cm.get_coherence()\n",
    "print(\"c_v: \", coherence)\n"
   ]
  },
  {
   "cell_type": "code",
   "execution_count": 20,
   "id": "a3abd29f",
   "metadata": {},
   "outputs": [
    {
     "name": "stdout",
     "output_type": "stream",
     "text": [
      "{'yourselves', 'than', 't', 'above', 'shouldn', \"mightn't\", \"don't\", 'yourself', 'these', \"didn't\", \"you'll\", 'do', 'were', 'wouldn', 'y', 'over', 'be', 'any', 'to', 'where', 'more', 'each', 'your', 'why', 'use', 'haven', 'those', 'out', 'yours', 'or', 'as', 'such', 'about', 'a', 'can', 'needn', 'ma', 'o', 'until', 'own', 'further', \"wouldn't\", 'get', 'aren', 're', 'this', \"you'd\", 'having', 'she', 'the', \"shan't\", \"mustn't\", 'by', 'now', \"won't\", 'themselves', 'off', 'mightn', 'their', 'itself', 'too', 'theirs', 'into', 'its', 'ourselves', 'hers', 'my', 'am', 'just', \"should've\", 'at', \"couldn't\", 'her', 'shan', 'doesn', 'and', 'himself', 'what', 'not', \"wasn't\", 'loved', 'ain', 'our', 'him', 'm', 'used', 'will', 'whom', 'before', 'so', 'that', 'which', 'for', \"that'll\", 'didn', 'was', 'if', 'most', 'has', 'being', 'after', 'in', 'on', 'here', \"shouldn't\", 'other', 'doing', 'with', 'i', \"hadn't\", 'he', 'there', 'don', 'did', 'like', 'myself', 'loves', \"you've\", 'then', 'hasn', 'does', 'are', 'you', 'of', 'who', 'love', 'herself', 'very', 'down', 'but', 'his', 'me', 'have', 'mustn', 'because', 'between', \"she's\", 'weren', 'once', 'had', 'through', 'won', 'been', 'only', 'even', \"hasn't\", 'it', 'again', 'is', 'few', 'we', 'during', 'nor', \"doesn't\", 'isn', \"you're\", 'll', 'wasn', 'against', 'an', 'from', 'under', 'while', \"needn't\", 'couldn', 'd', 'hadn', \"it's\", 'no', 'some', \"isn't\", 'below', 'how', 's', 'both', 'should', 'when', \"haven't\", \"weren't\", 'up', \"aren't\", 'same', 'ours', 'would', 'they', 've', 'all', 'them'}\n"
     ]
    }
   ],
   "source": [
    "# adding more stop words\n",
    "\n",
    "stops.add(\"like\")\n",
    "stops.add(\"love\")\n",
    "stops.add(\"loved\")\n",
    "stops.add(\"loves\")\n",
    "stops.add(\"use\")\n",
    "stops.add(\"get\")\n",
    "stops.add(\"used\")\n",
    "stops.add(\"would\")\n",
    "stops.add(\"even\")\n",
    "\n",
    "print(stops)\n"
   ]
  },
  {
   "cell_type": "code",
   "execution_count": 21,
   "id": "2fac266a",
   "metadata": {},
   "outputs": [
    {
     "name": "stdout",
     "output_type": "stream",
     "text": [
      "['Great', 'product']\n"
     ]
    }
   ],
   "source": [
    "filtered = [[w for w in text if not w.lower() in stops] for text in tokenized_texts]\n",
    "\n",
    "print(filtered[0][:10])\n",
    "\n",
    "dictionary = Dictionary(filtered)\n",
    "# A corpus is a sparse datastore containing the number of times each word appears in each document.\n",
    "corpus = [dictionary.doc2bow(text) for text in filtered]"
   ]
  },
  {
   "cell_type": "code",
   "execution_count": 22,
   "id": "64db6749",
   "metadata": {},
   "outputs": [],
   "source": [
    "model = models.LdaMulticore(corpus, id2word=dictionary, num_topics=5, workers=20)"
   ]
  },
  {
   "cell_type": "code",
   "execution_count": 23,
   "id": "09770050",
   "metadata": {},
   "outputs": [
    {
     "name": "stdout",
     "output_type": "stream",
     "text": [
      "0:  hot cup pan water Works clean one easy great coffee\n",
      "1:  really one made easy great perfect Perfect size well small\n",
      "2:  bed good really little put room one nice great well\n",
      "3:  buy gift well Great good price one product great quality\n",
      "4:  work months back unit top first lid water time one\n"
     ]
    }
   ],
   "source": [
    "for ix in range(5):\n",
    "  top10 = np.argsort(model.get_topics()[ix])[-10:]\n",
    "  print(f'{ix}:  {\" \".join([dictionary[index] for index in top10])}')\n",
    "    "
   ]
  },
  {
   "cell_type": "code",
   "execution_count": 24,
   "id": "a7b8c444",
   "metadata": {},
   "outputs": [
    {
     "name": "stdout",
     "output_type": "stream",
     "text": [
      "umass:  -2.9400663032110743\n",
      "c_v:  0.4880056985920172\n"
     ]
    }
   ],
   "source": [
    "cm = CoherenceModel(model=model, texts=filtered, dictionary=dictionary, coherence='u_mass')\n",
    "coherence = cm.get_coherence()\n",
    "print(\"umass: \", coherence)\n",
    "cm = CoherenceModel(model=model, texts=filtered, dictionary=dictionary, coherence='c_v')\n",
    "coherence = cm.get_coherence()\n",
    "print(\"c_v: \", coherence)\n"
   ]
  },
  {
   "cell_type": "code",
   "execution_count": 25,
   "id": "d9d84692",
   "metadata": {},
   "outputs": [],
   "source": [
    "# try with more topics\n",
    "\n",
    "model = models.LdaMulticore(corpus, id2word=dictionary, num_topics=15, workers=14)"
   ]
  },
  {
   "cell_type": "code",
   "execution_count": 26,
   "id": "b3a275d8",
   "metadata": {},
   "outputs": [
    {
     "name": "stdout",
     "output_type": "stream",
     "text": [
      "0:  side put soft top fit little well nice one mattress\n",
      "1:  sheets well good much price bought vacuum one pillow bed\n",
      "2:  ordered return together put received box color back product one\n",
      "3:  curtain one price shower small quality good perfect size Great\n",
      "4:  old first make time ice bought ever best years one\n",
      "5:  great easy make grinder one maker cups machine cup coffee\n",
      "6:  warm pillows nice little air Perfect fan chair light room\n",
      "7:  need easy nice kitchen much table space well great set\n",
      "8:  product much buy blender Awesome fabric money well great one\n",
      "9:  top cup mug one glass cold coffee lid hot water\n",
      "10:  long battery still last first work well unit one time\n",
      "11:  ref ie product class hook normal B link wine glasses\n",
      "12:  much one oven good well Easy pan great clean easy\n",
      "13:  buy Bought rice water year Christmas bought great one gift\n",
      "14:  looks made nice Great price good well quality product great\n"
     ]
    }
   ],
   "source": [
    "for ix in range(15):\n",
    "  top10 = np.argsort(model.get_topics()[ix])[-10:]\n",
    "  print(f'{ix}:  {\" \".join([dictionary[index] for index in top10])}')"
   ]
  },
  {
   "cell_type": "code",
   "execution_count": 27,
   "id": "b924dad4",
   "metadata": {},
   "outputs": [
    {
     "name": "stdout",
     "output_type": "stream",
     "text": [
      "umass:  -3.0560961233570483\n",
      "c_v:  0.5594208013130275\n"
     ]
    }
   ],
   "source": [
    "cm = CoherenceModel(model=model, texts=filtered, dictionary=dictionary, coherence='u_mass')\n",
    "coherence = cm.get_coherence()\n",
    "print(\"umass: \", coherence)\n",
    "cm = CoherenceModel(model=model, texts=filtered, dictionary=dictionary, coherence='c_v')\n",
    "coherence = cm.get_coherence()\n",
    "print(\"c_v: \", coherence)"
   ]
  },
  {
   "cell_type": "code",
   "execution_count": 28,
   "id": "e04443a5",
   "metadata": {},
   "outputs": [],
   "source": [
    "# try with 7 topics\n",
    "\n",
    "model = models.LdaMulticore(corpus, id2word=dictionary, num_topics=7, workers=14)"
   ]
  },
  {
   "cell_type": "code",
   "execution_count": 29,
   "id": "09454da3",
   "metadata": {},
   "outputs": [
    {
     "name": "stdout",
     "output_type": "stream",
     "text": [
      "0:  sheets really room color pillow bed well great soft nice\n",
      "1:  make time chair bought years made set well one mattress\n",
      "2:  perfect well vacuum easy bag cute one Great gift great\n",
      "3:  arrived looks item Great one great price good quality product\n",
      "4:  unit heat ice back top hot time lid smell water\n",
      "5:  hot years clock mug great bought time cup coffee one\n",
      "6:  nice fit perfect small well little one put easy great\n"
     ]
    }
   ],
   "source": [
    "for ix in range(7):\n",
    "  top10 = np.argsort(model.get_topics()[ix])[-10:]\n",
    "  print(f'{ix}:  {\" \".join([dictionary[index] for index in top10])}')"
   ]
  },
  {
   "cell_type": "code",
   "execution_count": 30,
   "id": "daf5d6ab",
   "metadata": {},
   "outputs": [
    {
     "name": "stdout",
     "output_type": "stream",
     "text": [
      "umass:  -2.8411466628708757\n",
      "c_v:  0.5220114469112925\n"
     ]
    }
   ],
   "source": [
    "cm = CoherenceModel(model=model, texts=filtered, dictionary=dictionary, coherence='u_mass')\n",
    "coherence = cm.get_coherence()\n",
    "print(\"umass: \", coherence)\n",
    "cm = CoherenceModel(model=model, texts=filtered, dictionary=dictionary, coherence='c_v')\n",
    "coherence = cm.get_coherence()\n",
    "print(\"c_v: \", coherence)"
   ]
  },
  {
   "cell_type": "code",
   "execution_count": 31,
   "id": "c7c3e495",
   "metadata": {},
   "outputs": [
    {
     "name": "stdout",
     "output_type": "stream",
     "text": [
      "0:  good easy pan first great review clean time product one\n",
      "1:  pretty good pot set product much nice made well one\n",
      "2:  easy nice works good price well product quality Great great\n",
      "3:  bag great fit good top well size little small easy\n",
      "4:  cold great ice make time hot cup one water coffee\n",
      "5:  pillow back really color nice soft room bed bought one\n",
      "umass:  -2.8641187015656944\n",
      "c_v:  0.5053322605290452\n"
     ]
    }
   ],
   "source": [
    "model = models.LdaMulticore(corpus, id2word=dictionary, num_topics=6, workers=20)\n",
    "\n",
    "for ix in range(6):\n",
    "  top10 = np.argsort(model.get_topics()[ix])[-10:]\n",
    "  print(f'{ix}:  {\" \".join([dictionary[index] for index in top10])}')\n",
    "\n",
    "cm = CoherenceModel(model=model, texts=filtered, dictionary=dictionary, coherence='u_mass')\n",
    "coherence = cm.get_coherence()\n",
    "print(\"umass: \", coherence)\n",
    "cm = CoherenceModel(model=model, texts=filtered, dictionary=dictionary, coherence='c_v')\n",
    "coherence = cm.get_coherence()\n",
    "print(\"c_v: \", coherence)    \n",
    "    "
   ]
  },
  {
   "cell_type": "code",
   "execution_count": 32,
   "id": "58d435ae",
   "metadata": {},
   "outputs": [
    {
     "name": "stdout",
     "output_type": "stream",
     "text": [
      "0:  room quality time well price bed good product one great\n",
      "1:  top look looks really little great put well one nice\n",
      "2:  make much time hot cup one great well water coffee\n",
      "3:  made gift well good easy product quality great one Great\n",
      "umass:  -2.7389961461909933\n",
      "c_v:  0.43561696978755293\n"
     ]
    }
   ],
   "source": [
    "model = models.LdaMulticore(corpus, id2word=dictionary, num_topics=4, workers=20)\n",
    "\n",
    "for ix in range(4):\n",
    "  top10 = np.argsort(model.get_topics()[ix])[-10:]\n",
    "  print(f'{ix}:  {\" \".join([dictionary[index] for index in top10])}')\n",
    "\n",
    "cm = CoherenceModel(model=model, texts=filtered, dictionary=dictionary, coherence='u_mass')\n",
    "coherence = cm.get_coherence()\n",
    "print(\"umass: \", coherence)\n",
    "cm = CoherenceModel(model=model, texts=filtered, dictionary=dictionary, coherence='c_v')\n",
    "coherence = cm.get_coherence()\n",
    "print(\"c_v: \", coherence)  "
   ]
  },
  {
   "cell_type": "code",
   "execution_count": 33,
   "id": "71ec8cba",
   "metadata": {},
   "outputs": [
    {
     "name": "stdout",
     "output_type": "stream",
     "text": [
      "18125643\n",
      "2500000\n"
     ]
    }
   ],
   "source": [
    "# time to try with poor ratings only\n",
    "import json\n",
    "\n",
    "\n",
    "f = open(\"amazon/Home_and_Kitchen.json\", \"r\")\n",
    "f2 = open(\"amazon/Home_and_Kitchen_poor.txt\", \"w\")\n",
    "\n",
    "num_lines_before = 0\n",
    "num_lines_after = 0\n",
    "for line in f:\n",
    "    if num_lines_after >= 2_000_000:\n",
    "        break\n",
    "    num_lines_before += 1\n",
    "    tmp = json.loads(line)\n",
    "    try:\n",
    "        if len(tmp['reviewText']) > 5 and tmp['overall'] == 0.0 or tmp['overall'] == 1.0 or tmp['overall'] == 2.0:\n",
    "            f2.write(tmp['reviewText'] + \"\\n\")\n",
    "            num_lines_after += 1\n",
    "    except:\n",
    "        continue\n",
    "\n",
    "f.close()\n",
    "f2.close()\n",
    "\n",
    "print(num_lines_before)\n",
    "print(num_lines_after)"
   ]
  },
  {
   "cell_type": "code",
   "execution_count": 34,
   "id": "8c4dc7bb",
   "metadata": {},
   "outputs": [
    {
     "name": "stdout",
     "output_type": "stream",
     "text": [
      "{'yourselves', 'than', 't', 'above', 'shouldn', \"mightn't\", \"don't\", 'yourself', 'these', \"didn't\", \"you'll\", 'do', 'were', 'wouldn', 'y', 'over', 'be', 'any', 'to', 'where', 'more', 'each', 'your', 'why', 'haven', 'those', 'out', 'yours', 'or', 'as', 'such', 'about', 'a', 'can', 'needn', 'ma', 'o', 'until', 'own', 'further', \"wouldn't\", 'aren', 're', 'this', \"you'd\", 'having', 'she', 'the', \"shan't\", \"mustn't\", 'by', 'now', \"won't\", 'themselves', 'off', 'mightn', 'their', 'itself', 'too', 'theirs', 'into', 'its', 'ourselves', 'hers', 'my', 'am', 'just', \"should've\", 'at', \"couldn't\", 'her', 'shan', 'doesn', 'and', 'himself', 'what', 'not', \"wasn't\", 'ain', 'our', 'him', 'm', 'will', 'whom', 'before', 'so', 'that', 'which', 'for', \"that'll\", 'didn', 'was', 'if', 'most', 'has', 'being', 'after', 'in', 'on', 'here', \"shouldn't\", 'other', 'doing', 'with', 'i', \"hadn't\", 'he', 'there', 'don', 'did', 'myself', \"you've\", 'then', 'hasn', 'does', 'are', 'you', 'of', 'who', 'herself', 'very', 'down', 'but', 'his', 'me', 'have', 'mustn', 'because', 'between', \"she's\", 'weren', 'once', 'had', 'through', 'won', 'been', 'only', \"hasn't\", 'it', 'again', 'is', 'few', 'we', 'during', 'nor', \"doesn't\", 'isn', \"you're\", 'll', 'wasn', 'against', 'an', 'from', 'under', 'while', \"needn't\", 'couldn', 'd', 'hadn', \"it's\", 'no', 'some', \"isn't\", 'below', 'how', 's', 'both', 'should', 'when', \"haven't\", \"weren't\", 'up', \"aren't\", 'same', 'ours', 'they', 've', 'all', 'them'}\n"
     ]
    },
    {
     "name": "stderr",
     "output_type": "stream",
     "text": [
      "[nltk_data] Downloading package stopwords to\n",
      "[nltk_data]     C:\\Users\\Erik\\AppData\\Roaming\\nltk_data...\n",
      "[nltk_data]   Package stopwords is already up-to-date!\n"
     ]
    }
   ],
   "source": [
    "import nltk\n",
    "nltk.download('stopwords')\n",
    "from nltk.corpus import stopwords\n",
    "\n",
    "stops = set(stopwords.words('english'))\n",
    "\n",
    "print(stops)"
   ]
  },
  {
   "cell_type": "code",
   "execution_count": 35,
   "id": "705e572b",
   "metadata": {},
   "outputs": [
    {
     "name": "stdout",
     "output_type": "stream",
     "text": [
      "['I', 'truly', 'wanted', 'to', 'like', 'this', 'item', 'It', 'fell', 'apart']\n",
      "3673242\n"
     ]
    }
   ],
   "source": [
    "with open(\"amazon/Home_and_Kitchen_poor.txt\", \"r\") as f:\n",
    "    tokenized_texts = [list(tokenize(text)) for text in f]\n",
    "    \n",
    "print(tokenized_texts[0][:10])\n",
    "print(len(tokenized_texts))"
   ]
  },
  {
   "cell_type": "code",
   "execution_count": 36,
   "id": "42def5a2",
   "metadata": {},
   "outputs": [
    {
     "name": "stdout",
     "output_type": "stream",
     "text": [
      "['truly', 'wanted', 'like', 'item', 'fell', 'apart', 'installing', 'screwdriver']\n"
     ]
    }
   ],
   "source": [
    "filtered = [[w for w in text if not w.lower() in stops] for text in tokenized_texts]\n",
    "\n",
    "dictionary = Dictionary(filtered)\n",
    "\n",
    "print(filtered[0][:10])"
   ]
  },
  {
   "cell_type": "code",
   "execution_count": 37,
   "id": "9acaf782",
   "metadata": {},
   "outputs": [],
   "source": [
    "new_corpus = [dictionary.doc2bow(text) for text in filtered]\n",
    "\n",
    "model = models.LdaMulticore(new_corpus, id2word=dictionary, num_topics=5, workers=20)"
   ]
  },
  {
   "cell_type": "code",
   "execution_count": 39,
   "id": "7f2f3723",
   "metadata": {},
   "outputs": [
    {
     "name": "stdout",
     "output_type": "stream",
     "text": [
      "0:  use would machine hot one cup coffee water\n",
      "1:  would use item one product pan made quality\n",
      "2:  handle pillows one first money use product broke\n",
      "3:  box plastic fit together put product one would\n",
      "4:  plastic pillow would get one like lid use\n",
      "umass:  -2.8289453797083977\n",
      "c_v:  0.5683332336678729\n"
     ]
    }
   ],
   "source": [
    "for ix in range(5):\n",
    "  top8 = np.argsort(model.get_topics()[ix])[-8:]\n",
    "  print(f'{ix}:  {\" \".join([dictionary[index] for index in top8])}')\n",
    "\n",
    "cm = CoherenceModel(model=model, texts=filtered, dictionary=dictionary, coherence='u_mass')\n",
    "coherence = cm.get_coherence()\n",
    "print(\"umass: \", coherence)\n",
    "cm = CoherenceModel(model=model, texts=filtered, dictionary=dictionary, coherence='c_v')\n",
    "coherence = cm.get_coherence()\n",
    "print(\"c_v: \", coherence)  "
   ]
  },
  {
   "cell_type": "code",
   "execution_count": 40,
   "id": "8d60dd52",
   "metadata": {},
   "outputs": [
    {
     "name": "stdout",
     "output_type": "stream",
     "text": [
      "['truly', 'wanted', 'like', 'item', 'fell', 'apart', 'installing', 'screwdriver']\n"
     ]
    }
   ],
   "source": [
    "stops.add('one')\n",
    "stops.add('would')\n",
    "\n",
    "filtered = [[w for w in text if not w.lower() in stops] for text in tokenized_texts]\n",
    "\n",
    "dictionary = Dictionary(filtered)\n",
    "\n",
    "print(filtered[0][:10])"
   ]
  },
  {
   "cell_type": "code",
   "execution_count": 41,
   "id": "fe47be3f",
   "metadata": {},
   "outputs": [],
   "source": [
    "new_corpus = [dictionary.doc2bow(text) for text in filtered]\n",
    "\n",
    "model = models.LdaMulticore(new_corpus, id2word=dictionary, num_topics=5, workers=20)"
   ]
  },
  {
   "cell_type": "code",
   "execution_count": 42,
   "id": "ff837962",
   "metadata": {},
   "outputs": [
    {
     "name": "stdout",
     "output_type": "stream",
     "text": [
      "0:  get bought product working months coffee time work\n",
      "1:  plastic much fit money small use made product\n",
      "2:  first good get used like time water use\n",
      "3:  use vacuum back get item Amazon return product\n",
      "4:  product even cheap put get back quality like\n",
      "umass:  -2.5976535452789697\n",
      "c_v:  0.5218575408496833\n"
     ]
    }
   ],
   "source": [
    "for ix in range(5):\n",
    "  top8 = np.argsort(model.get_topics()[ix])[-8:]\n",
    "  print(f'{ix}:  {\" \".join([dictionary[index] for index in top8])}')\n",
    "\n",
    "cm = CoherenceModel(model=model, texts=filtered, dictionary=dictionary, coherence='u_mass')\n",
    "coherence = cm.get_coherence()\n",
    "print(\"umass: \", coherence)\n",
    "cm = CoherenceModel(model=model, texts=filtered, dictionary=dictionary, coherence='c_v')\n",
    "coherence = cm.get_coherence()\n",
    "print(\"c_v: \", coherence) "
   ]
  },
  {
   "cell_type": "code",
   "execution_count": 43,
   "id": "c4230bab",
   "metadata": {},
   "outputs": [
    {
     "name": "stdout",
     "output_type": "stream",
     "text": [
      "0:  money back product months time use get water\n",
      "1:  back put get plastic like product quality use\n",
      "2:  color get bought pillow bed even product like\n",
      "3:  money get use made time small work product\n",
      "umass:  -2.5978808075371562\n",
      "c_v:  0.4718693370593061\n"
     ]
    }
   ],
   "source": [
    "model = models.LdaMulticore(new_corpus, id2word=dictionary, num_topics=4, workers=20)\n",
    "\n",
    "for ix in range(4):\n",
    "  top8 = np.argsort(model.get_topics()[ix])[-8:]\n",
    "  print(f'{ix}:  {\" \".join([dictionary[index] for index in top8])}')\n",
    "\n",
    "cm = CoherenceModel(model=model, texts=filtered, dictionary=dictionary, coherence='u_mass')\n",
    "coherence = cm.get_coherence()\n",
    "print(\"umass: \", coherence)\n",
    "cm = CoherenceModel(model=model, texts=filtered, dictionary=dictionary, coherence='c_v')\n",
    "coherence = cm.get_coherence()\n",
    "print(\"c_v: \", coherence) "
   ]
  },
  {
   "cell_type": "code",
   "execution_count": null,
   "id": "54447686",
   "metadata": {},
   "outputs": [
    {
     "name": "stdout",
     "output_type": "stream",
     "text": [
      "0:  time Amazon mattress get money product return back\n",
      "1:  money used pillow get time like use water\n",
      "2:  color made picture disappointed cheap product quality like\n",
      "3:  even reviews pan hot cup product get coffee\n",
      "4:  worked clock stopped use months time working work\n",
      "5:  hold two broken first product plastic broke use\n"
     ]
    }
   ],
   "source": [
    "model = models.LdaMulticore(new_corpus, id2word=dictionary, num_topics=6, workers=20)\n",
    "\n",
    "for ix in range(6):\n",
    "  top8 = np.argsort(model.get_topics()[ix])[-8:]\n",
    "  print(f'{ix}:  {\" \".join([dictionary[index] for index in top8])}')\n",
    "\n",
    "cm = CoherenceModel(model=model, texts=filtered, dictionary=dictionary, coherence='u_mass')\n",
    "coherence = cm.get_coherence()\n",
    "print(\"umass: \", coherence)\n",
    "cm = CoherenceModel(model=model, texts=filtered, dictionary=dictionary, coherence='c_v')\n",
    "coherence = cm.get_coherence()\n",
    "print(\"c_v: \", coherence) \n",
    "\n",
    "\n",
    "import pickle\n",
    "\n",
    "with open(\"topic.model\", \"wb\") as f:\n",
    "    pickle.dump(model, f)\n"
   ]
  },
  {
   "cell_type": "code",
   "execution_count": 46,
   "id": "ad7d4ed2",
   "metadata": {},
   "outputs": [
    {
     "name": "stdout",
     "output_type": "stream",
     "text": [
      "0:  clean like air much small use vacuum mattress\n",
      "1:  make get like time used product pan use\n",
      "2:  box received item disappointed broken use quality product\n",
      "3:  fit quality time even put product get like\n",
      "4:  new get back product Amazon months working return\n",
      "5:  get use money like cheap made broke plastic\n",
      "6:  hot like use back work time water coffee\n",
      "umass:  -2.627010918628895\n",
      "c_v:  0.5202661200062719\n"
     ]
    }
   ],
   "source": [
    "model = models.LdaMulticore(new_corpus, id2word=dictionary, num_topics=7, workers=20)\n",
    "\n",
    "for ix in range(7):\n",
    "  top8 = np.argsort(model.get_topics()[ix])[-8:]\n",
    "  print(f'{ix}:  {\" \".join([dictionary[index] for index in top8])}')\n",
    "\n",
    "cm = CoherenceModel(model=model, texts=filtered, dictionary=dictionary, coherence='u_mass')\n",
    "coherence = cm.get_coherence()\n",
    "print(\"umass: \", coherence)\n",
    "cm = CoherenceModel(model=model, texts=filtered, dictionary=dictionary, coherence='c_v')\n",
    "coherence = cm.get_coherence()\n",
    "print(\"c_v: \", coherence) "
   ]
  },
  {
   "cell_type": "code",
   "execution_count": null,
   "id": "f3fd38ee",
   "metadata": {},
   "outputs": [],
   "source": []
  }
 ],
 "metadata": {
  "kernelspec": {
   "display_name": "Python 3 (ipykernel)",
   "language": "python",
   "name": "python3"
  },
  "language_info": {
   "codemirror_mode": {
    "name": "ipython",
    "version": 3
   },
   "file_extension": ".py",
   "mimetype": "text/x-python",
   "name": "python",
   "nbconvert_exporter": "python",
   "pygments_lexer": "ipython3",
   "version": "3.9.13"
  }
 },
 "nbformat": 4,
 "nbformat_minor": 5
}
